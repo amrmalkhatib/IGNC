{
 "cells": [
  {
   "cell_type": "code",
   "execution_count": 1,
   "id": "34f98c97",
   "metadata": {
    "scrolled": true
   },
   "outputs": [
    {
     "name": "stderr",
     "output_type": "stream",
     "text": [
      "c:\\users\\amr20\\appdata\\local\\programs\\python\\python38\\lib\\site-packages\\openml\\datasets\\functions.py:438: FutureWarning: Starting from Version 0.15 `download_data`, `download_qualities`, and `download_features_meta_data` will all be ``False`` instead of ``True`` by default to enable lazy loading. To disable this message until version 0.15 explicitly set `download_data`, `download_qualities`, and `download_features_meta_data` to a bool while calling `get_dataset`.\n",
      "  warnings.warn(\n"
     ]
    }
   ],
   "source": [
    "import pandas as pd\n",
    "import openml\n",
    "import data_preprocess as dp\n",
    "\n",
    "data_name = 'hcdr_main'\n",
    "\n",
    "data = openml.datasets.get_dataset(45567)\n",
    "\n",
    "X, y, categorical_indicator, attribute_names = data.get_data(\n",
    "    target=data.default_target_attribute, dataset_format=\"dataframe\"\n",
    ")"
   ]
  },
  {
   "cell_type": "markdown",
   "id": "a854335e",
   "metadata": {},
   "source": [
    "# Data Preprocessing"
   ]
  },
  {
   "cell_type": "code",
   "execution_count": 2,
   "id": "b83124ce",
   "metadata": {},
   "outputs": [
    {
     "data": {
      "text/html": [
       "<div>\n",
       "<style scoped>\n",
       "    .dataframe tbody tr th:only-of-type {\n",
       "        vertical-align: middle;\n",
       "    }\n",
       "\n",
       "    .dataframe tbody tr th {\n",
       "        vertical-align: top;\n",
       "    }\n",
       "\n",
       "    .dataframe thead th {\n",
       "        text-align: right;\n",
       "    }\n",
       "</style>\n",
       "<table border=\"1\" class=\"dataframe\">\n",
       "  <thead>\n",
       "    <tr style=\"text-align: right;\">\n",
       "      <th></th>\n",
       "      <th>CNT_CHILDREN</th>\n",
       "      <th>AMT_INCOME_TOTAL</th>\n",
       "      <th>AMT_CREDIT</th>\n",
       "      <th>AMT_ANNUITY</th>\n",
       "      <th>AMT_GOODS_PRICE</th>\n",
       "      <th>REGION_POPULATION_RELATIVE</th>\n",
       "      <th>DAYS_BIRTH</th>\n",
       "      <th>DAYS_EMPLOYED</th>\n",
       "      <th>DAYS_REGISTRATION</th>\n",
       "      <th>DAYS_ID_PUBLISH</th>\n",
       "      <th>...</th>\n",
       "      <th>FLAG_DOCUMENT_12</th>\n",
       "      <th>FLAG_DOCUMENT_13</th>\n",
       "      <th>FLAG_DOCUMENT_14</th>\n",
       "      <th>FLAG_DOCUMENT_15</th>\n",
       "      <th>FLAG_DOCUMENT_16</th>\n",
       "      <th>FLAG_DOCUMENT_17</th>\n",
       "      <th>FLAG_DOCUMENT_18</th>\n",
       "      <th>FLAG_DOCUMENT_19</th>\n",
       "      <th>FLAG_DOCUMENT_20</th>\n",
       "      <th>FLAG_DOCUMENT_21</th>\n",
       "    </tr>\n",
       "  </thead>\n",
       "  <tbody>\n",
       "    <tr>\n",
       "      <th>0</th>\n",
       "      <td>0</td>\n",
       "      <td>202500.0</td>\n",
       "      <td>406597.5</td>\n",
       "      <td>24700.5</td>\n",
       "      <td>351000.0</td>\n",
       "      <td>0.018801</td>\n",
       "      <td>-9461.0</td>\n",
       "      <td>-637.0</td>\n",
       "      <td>-3648.0</td>\n",
       "      <td>-2120.0</td>\n",
       "      <td>...</td>\n",
       "      <td>1</td>\n",
       "      <td>1</td>\n",
       "      <td>1</td>\n",
       "      <td>1</td>\n",
       "      <td>1</td>\n",
       "      <td>1</td>\n",
       "      <td>1</td>\n",
       "      <td>1</td>\n",
       "      <td>1</td>\n",
       "      <td>1</td>\n",
       "    </tr>\n",
       "    <tr>\n",
       "      <th>1</th>\n",
       "      <td>0</td>\n",
       "      <td>270000.0</td>\n",
       "      <td>1293502.5</td>\n",
       "      <td>35698.5</td>\n",
       "      <td>1129500.0</td>\n",
       "      <td>0.003541</td>\n",
       "      <td>-16765.0</td>\n",
       "      <td>-1188.0</td>\n",
       "      <td>-1186.0</td>\n",
       "      <td>-291.0</td>\n",
       "      <td>...</td>\n",
       "      <td>1</td>\n",
       "      <td>1</td>\n",
       "      <td>1</td>\n",
       "      <td>1</td>\n",
       "      <td>1</td>\n",
       "      <td>1</td>\n",
       "      <td>1</td>\n",
       "      <td>1</td>\n",
       "      <td>1</td>\n",
       "      <td>1</td>\n",
       "    </tr>\n",
       "    <tr>\n",
       "      <th>2</th>\n",
       "      <td>0</td>\n",
       "      <td>67500.0</td>\n",
       "      <td>135000.0</td>\n",
       "      <td>6750.0</td>\n",
       "      <td>135000.0</td>\n",
       "      <td>0.010032</td>\n",
       "      <td>-19046.0</td>\n",
       "      <td>-225.0</td>\n",
       "      <td>-4260.0</td>\n",
       "      <td>-2531.0</td>\n",
       "      <td>...</td>\n",
       "      <td>1</td>\n",
       "      <td>1</td>\n",
       "      <td>1</td>\n",
       "      <td>1</td>\n",
       "      <td>1</td>\n",
       "      <td>1</td>\n",
       "      <td>1</td>\n",
       "      <td>1</td>\n",
       "      <td>1</td>\n",
       "      <td>1</td>\n",
       "    </tr>\n",
       "    <tr>\n",
       "      <th>3</th>\n",
       "      <td>0</td>\n",
       "      <td>135000.0</td>\n",
       "      <td>312682.5</td>\n",
       "      <td>29686.5</td>\n",
       "      <td>297000.0</td>\n",
       "      <td>0.008019</td>\n",
       "      <td>-19005.0</td>\n",
       "      <td>-3039.0</td>\n",
       "      <td>-9833.0</td>\n",
       "      <td>-2437.0</td>\n",
       "      <td>...</td>\n",
       "      <td>1</td>\n",
       "      <td>1</td>\n",
       "      <td>1</td>\n",
       "      <td>1</td>\n",
       "      <td>1</td>\n",
       "      <td>1</td>\n",
       "      <td>1</td>\n",
       "      <td>1</td>\n",
       "      <td>1</td>\n",
       "      <td>1</td>\n",
       "    </tr>\n",
       "    <tr>\n",
       "      <th>4</th>\n",
       "      <td>0</td>\n",
       "      <td>121500.0</td>\n",
       "      <td>513000.0</td>\n",
       "      <td>21865.5</td>\n",
       "      <td>513000.0</td>\n",
       "      <td>0.028663</td>\n",
       "      <td>-19932.0</td>\n",
       "      <td>-3038.0</td>\n",
       "      <td>-4311.0</td>\n",
       "      <td>-3458.0</td>\n",
       "      <td>...</td>\n",
       "      <td>1</td>\n",
       "      <td>1</td>\n",
       "      <td>1</td>\n",
       "      <td>1</td>\n",
       "      <td>1</td>\n",
       "      <td>1</td>\n",
       "      <td>1</td>\n",
       "      <td>1</td>\n",
       "      <td>1</td>\n",
       "      <td>1</td>\n",
       "    </tr>\n",
       "    <tr>\n",
       "      <th>...</th>\n",
       "      <td>...</td>\n",
       "      <td>...</td>\n",
       "      <td>...</td>\n",
       "      <td>...</td>\n",
       "      <td>...</td>\n",
       "      <td>...</td>\n",
       "      <td>...</td>\n",
       "      <td>...</td>\n",
       "      <td>...</td>\n",
       "      <td>...</td>\n",
       "      <td>...</td>\n",
       "      <td>...</td>\n",
       "      <td>...</td>\n",
       "      <td>...</td>\n",
       "      <td>...</td>\n",
       "      <td>...</td>\n",
       "      <td>...</td>\n",
       "      <td>...</td>\n",
       "      <td>...</td>\n",
       "      <td>...</td>\n",
       "      <td>...</td>\n",
       "    </tr>\n",
       "    <tr>\n",
       "      <th>307506</th>\n",
       "      <td>0</td>\n",
       "      <td>157500.0</td>\n",
       "      <td>254700.0</td>\n",
       "      <td>27558.0</td>\n",
       "      <td>225000.0</td>\n",
       "      <td>0.032561</td>\n",
       "      <td>-9327.0</td>\n",
       "      <td>-236.0</td>\n",
       "      <td>-8456.0</td>\n",
       "      <td>-1982.0</td>\n",
       "      <td>...</td>\n",
       "      <td>1</td>\n",
       "      <td>1</td>\n",
       "      <td>1</td>\n",
       "      <td>1</td>\n",
       "      <td>1</td>\n",
       "      <td>1</td>\n",
       "      <td>1</td>\n",
       "      <td>1</td>\n",
       "      <td>1</td>\n",
       "      <td>1</td>\n",
       "    </tr>\n",
       "    <tr>\n",
       "      <th>307507</th>\n",
       "      <td>0</td>\n",
       "      <td>72000.0</td>\n",
       "      <td>269550.0</td>\n",
       "      <td>12001.5</td>\n",
       "      <td>225000.0</td>\n",
       "      <td>0.025164</td>\n",
       "      <td>-20775.0</td>\n",
       "      <td>365243.0</td>\n",
       "      <td>-4388.0</td>\n",
       "      <td>-4090.0</td>\n",
       "      <td>...</td>\n",
       "      <td>1</td>\n",
       "      <td>1</td>\n",
       "      <td>1</td>\n",
       "      <td>1</td>\n",
       "      <td>1</td>\n",
       "      <td>1</td>\n",
       "      <td>1</td>\n",
       "      <td>1</td>\n",
       "      <td>1</td>\n",
       "      <td>1</td>\n",
       "    </tr>\n",
       "    <tr>\n",
       "      <th>307508</th>\n",
       "      <td>0</td>\n",
       "      <td>153000.0</td>\n",
       "      <td>677664.0</td>\n",
       "      <td>29979.0</td>\n",
       "      <td>585000.0</td>\n",
       "      <td>0.005002</td>\n",
       "      <td>-14966.0</td>\n",
       "      <td>-7921.0</td>\n",
       "      <td>-6737.0</td>\n",
       "      <td>-5150.0</td>\n",
       "      <td>...</td>\n",
       "      <td>1</td>\n",
       "      <td>1</td>\n",
       "      <td>1</td>\n",
       "      <td>1</td>\n",
       "      <td>1</td>\n",
       "      <td>1</td>\n",
       "      <td>1</td>\n",
       "      <td>1</td>\n",
       "      <td>1</td>\n",
       "      <td>1</td>\n",
       "    </tr>\n",
       "    <tr>\n",
       "      <th>307509</th>\n",
       "      <td>0</td>\n",
       "      <td>171000.0</td>\n",
       "      <td>370107.0</td>\n",
       "      <td>20205.0</td>\n",
       "      <td>319500.0</td>\n",
       "      <td>0.005313</td>\n",
       "      <td>-11961.0</td>\n",
       "      <td>-4786.0</td>\n",
       "      <td>-2562.0</td>\n",
       "      <td>-931.0</td>\n",
       "      <td>...</td>\n",
       "      <td>1</td>\n",
       "      <td>1</td>\n",
       "      <td>1</td>\n",
       "      <td>1</td>\n",
       "      <td>1</td>\n",
       "      <td>1</td>\n",
       "      <td>1</td>\n",
       "      <td>1</td>\n",
       "      <td>1</td>\n",
       "      <td>1</td>\n",
       "    </tr>\n",
       "    <tr>\n",
       "      <th>307510</th>\n",
       "      <td>0</td>\n",
       "      <td>157500.0</td>\n",
       "      <td>675000.0</td>\n",
       "      <td>49117.5</td>\n",
       "      <td>675000.0</td>\n",
       "      <td>0.046220</td>\n",
       "      <td>-16856.0</td>\n",
       "      <td>-1262.0</td>\n",
       "      <td>-5128.0</td>\n",
       "      <td>-410.0</td>\n",
       "      <td>...</td>\n",
       "      <td>1</td>\n",
       "      <td>1</td>\n",
       "      <td>1</td>\n",
       "      <td>1</td>\n",
       "      <td>1</td>\n",
       "      <td>1</td>\n",
       "      <td>1</td>\n",
       "      <td>1</td>\n",
       "      <td>1</td>\n",
       "      <td>1</td>\n",
       "    </tr>\n",
       "  </tbody>\n",
       "</table>\n",
       "<p>307511 rows × 120 columns</p>\n",
       "</div>"
      ],
      "text/plain": [
       "        CNT_CHILDREN  AMT_INCOME_TOTAL  AMT_CREDIT  AMT_ANNUITY  \\\n",
       "0                  0          202500.0    406597.5      24700.5   \n",
       "1                  0          270000.0   1293502.5      35698.5   \n",
       "2                  0           67500.0    135000.0       6750.0   \n",
       "3                  0          135000.0    312682.5      29686.5   \n",
       "4                  0          121500.0    513000.0      21865.5   \n",
       "...              ...               ...         ...          ...   \n",
       "307506             0          157500.0    254700.0      27558.0   \n",
       "307507             0           72000.0    269550.0      12001.5   \n",
       "307508             0          153000.0    677664.0      29979.0   \n",
       "307509             0          171000.0    370107.0      20205.0   \n",
       "307510             0          157500.0    675000.0      49117.5   \n",
       "\n",
       "        AMT_GOODS_PRICE  REGION_POPULATION_RELATIVE  DAYS_BIRTH  \\\n",
       "0              351000.0                    0.018801     -9461.0   \n",
       "1             1129500.0                    0.003541    -16765.0   \n",
       "2              135000.0                    0.010032    -19046.0   \n",
       "3              297000.0                    0.008019    -19005.0   \n",
       "4              513000.0                    0.028663    -19932.0   \n",
       "...                 ...                         ...         ...   \n",
       "307506         225000.0                    0.032561     -9327.0   \n",
       "307507         225000.0                    0.025164    -20775.0   \n",
       "307508         585000.0                    0.005002    -14966.0   \n",
       "307509         319500.0                    0.005313    -11961.0   \n",
       "307510         675000.0                    0.046220    -16856.0   \n",
       "\n",
       "        DAYS_EMPLOYED  DAYS_REGISTRATION  DAYS_ID_PUBLISH  ...  \\\n",
       "0              -637.0            -3648.0          -2120.0  ...   \n",
       "1             -1188.0            -1186.0           -291.0  ...   \n",
       "2              -225.0            -4260.0          -2531.0  ...   \n",
       "3             -3039.0            -9833.0          -2437.0  ...   \n",
       "4             -3038.0            -4311.0          -3458.0  ...   \n",
       "...               ...                ...              ...  ...   \n",
       "307506         -236.0            -8456.0          -1982.0  ...   \n",
       "307507       365243.0            -4388.0          -4090.0  ...   \n",
       "307508        -7921.0            -6737.0          -5150.0  ...   \n",
       "307509        -4786.0            -2562.0           -931.0  ...   \n",
       "307510        -1262.0            -5128.0           -410.0  ...   \n",
       "\n",
       "        FLAG_DOCUMENT_12  FLAG_DOCUMENT_13  FLAG_DOCUMENT_14  \\\n",
       "0                      1                 1                 1   \n",
       "1                      1                 1                 1   \n",
       "2                      1                 1                 1   \n",
       "3                      1                 1                 1   \n",
       "4                      1                 1                 1   \n",
       "...                  ...               ...               ...   \n",
       "307506                 1                 1                 1   \n",
       "307507                 1                 1                 1   \n",
       "307508                 1                 1                 1   \n",
       "307509                 1                 1                 1   \n",
       "307510                 1                 1                 1   \n",
       "\n",
       "        FLAG_DOCUMENT_15  FLAG_DOCUMENT_16  FLAG_DOCUMENT_17  \\\n",
       "0                      1                 1                 1   \n",
       "1                      1                 1                 1   \n",
       "2                      1                 1                 1   \n",
       "3                      1                 1                 1   \n",
       "4                      1                 1                 1   \n",
       "...                  ...               ...               ...   \n",
       "307506                 1                 1                 1   \n",
       "307507                 1                 1                 1   \n",
       "307508                 1                 1                 1   \n",
       "307509                 1                 1                 1   \n",
       "307510                 1                 1                 1   \n",
       "\n",
       "        FLAG_DOCUMENT_18  FLAG_DOCUMENT_19  FLAG_DOCUMENT_20  FLAG_DOCUMENT_21  \n",
       "0                      1                 1                 1                 1  \n",
       "1                      1                 1                 1                 1  \n",
       "2                      1                 1                 1                 1  \n",
       "3                      1                 1                 1                 1  \n",
       "4                      1                 1                 1                 1  \n",
       "...                  ...               ...               ...               ...  \n",
       "307506                 1                 1                 1                 1  \n",
       "307507                 1                 1                 1                 1  \n",
       "307508                 1                 1                 1                 1  \n",
       "307509                 1                 1                 1                 1  \n",
       "307510                 1                 1                 1                 1  \n",
       "\n",
       "[307511 rows x 120 columns]"
      ]
     },
     "execution_count": 2,
     "metadata": {},
     "output_type": "execute_result"
    }
   ],
   "source": [
    "from copy import deepcopy\n",
    "\n",
    "categorical = [b for a, b in zip(categorical_indicator, attribute_names) if a]\n",
    "numerical = [b for a, b in zip(categorical_indicator, attribute_names) if not a]\n",
    "\n",
    "encoded_data = deepcopy(X)\n",
    "\n",
    "for col in categorical:\n",
    "    \n",
    "    mapping = {c: i+1 for i, c in enumerate(encoded_data[col].unique())}\n",
    "    encoded_data[col] = encoded_data[col].replace(mapping)\n",
    "\n",
    "encoded_data = encoded_data[numerical + categorical]\n",
    "encoded_data.fillna(0, inplace=True)\n",
    "encoded_data"
   ]
  },
  {
   "cell_type": "code",
   "execution_count": 3,
   "id": "e5c57b9c",
   "metadata": {},
   "outputs": [
    {
     "data": {
      "text/plain": [
       "0         0\n",
       "1         1\n",
       "2         1\n",
       "3         1\n",
       "4         1\n",
       "         ..\n",
       "307506    1\n",
       "307507    1\n",
       "307508    1\n",
       "307509    0\n",
       "307510    1\n",
       "Name: TARGET, Length: 307511, dtype: int64"
      ]
     },
     "execution_count": 3,
     "metadata": {},
     "output_type": "execute_result"
    }
   ],
   "source": [
    "mapping = {b: int(i) for i, b in enumerate(y.unique())}\n",
    "\n",
    "\n",
    "y = y.replace(mapping)\n",
    "y"
   ]
  },
  {
   "cell_type": "code",
   "execution_count": 4,
   "id": "747e1b0a",
   "metadata": {},
   "outputs": [
    {
     "name": "stdout",
     "output_type": "stream",
     "text": [
      "train shape: (276759, 120)\n",
      " test shape: (15376, 120)\n",
      " dev shape: (15376, 120)\n"
     ]
    }
   ],
   "source": [
    "import numpy as np\n",
    "from sklearn.model_selection import train_test_split\n",
    "\n",
    "train_data, left_out, train_label, y_left_out = train_test_split(encoded_data, y, test_size=0.1, random_state=42)\n",
    "test_data, dev_data, test_label, dev_label = train_test_split(left_out, y_left_out, test_size=0.5, random_state=42)\n",
    "\n",
    "print(f'train shape: {train_data.shape}\\n test shape: {test_data.shape}\\n dev shape: {dev_data.shape}')"
   ]
  },
  {
   "cell_type": "code",
   "execution_count": 5,
   "id": "4715fa77",
   "metadata": {},
   "outputs": [],
   "source": [
    "from copy import deepcopy\n",
    "\n",
    "r_train_data = deepcopy(train_data)"
   ]
  },
  {
   "cell_type": "code",
   "execution_count": 6,
   "id": "4c142192",
   "metadata": {},
   "outputs": [],
   "source": [
    "from sklearn.preprocessing import Normalizer, StandardScaler\n",
    "\n",
    "nn = StandardScaler()\n",
    "\n",
    "nn.fit(train_data[numerical])\n",
    "\n",
    "train_data[numerical] = nn.transform(train_data[numerical])\n",
    "dev_data[numerical] = nn.transform(dev_data[numerical])\n",
    "test_data[numerical] = nn.transform(test_data[numerical])"
   ]
  },
  {
   "cell_type": "markdown",
   "id": "a3bc7f32",
   "metadata": {},
   "source": [
    "# Build graph"
   ]
  },
  {
   "cell_type": "code",
   "execution_count": 7,
   "id": "3e6f5635",
   "metadata": {},
   "outputs": [
    {
     "name": "stderr",
     "output_type": "stream",
     "text": [
      " 60%|████████████████████████████████████████████████▌                                | 72/120 [02:32<01:31,  1.91s/it]c:\\users\\amr20\\appdata\\local\\programs\\python\\python38\\lib\\site-packages\\scipy\\stats\\stats.py:4594: RuntimeWarning: overflow encountered in longlong_scalars\n",
      "  (2 * xtie * ytie) / m + x0 * y0 / (9 * m * (size - 2)))\n",
      "c:\\users\\amr20\\appdata\\local\\programs\\python\\python38\\lib\\site-packages\\scipy\\stats\\stats.py:4596: RuntimeWarning: invalid value encountered in sqrt\n",
      "  np.sqrt(var) / np.sqrt(2)))\n",
      "100%|████████████████████████████████████████████████████████████████████████████████| 120/120 [03:01<00:00,  1.51s/it]\n"
     ]
    }
   ],
   "source": [
    "adj_matrix, index_to_name, name_to_index = dp.compute_adjacency_matrix(data=r_train_data, self_loop_weight=20, \n",
    "                                                                       categorical=categorical)"
   ]
  },
  {
   "cell_type": "code",
   "execution_count": 8,
   "id": "aa2b8786",
   "metadata": {},
   "outputs": [],
   "source": [
    "from imblearn.over_sampling import RandomOverSampler\n",
    "\n",
    "oversample = RandomOverSampler(sampling_strategy='minority')\n",
    "X_over, y_over = oversample.fit_resample(train_data, train_label)"
   ]
  },
  {
   "cell_type": "code",
   "execution_count": 9,
   "id": "92224a23",
   "metadata": {},
   "outputs": [
    {
     "name": "stdout",
     "output_type": "stream",
     "text": [
      "torch.Size([508906, 120, 1])\n",
      "torch.Size([508906])\n",
      "torch.Size([15376, 120, 1])\n",
      "torch.Size([15376])\n",
      "torch.Size([15376, 120, 1])\n",
      "torch.Size([15376])\n"
     ]
    }
   ],
   "source": [
    "train = dp.transform_to_tensors(X_over, y_over, adj_matrix)\n",
    "\n",
    "test = dp.transform_to_tensors(test_data, test_label, adj_matrix)\n",
    "\n",
    "dev = dp.transform_to_tensors(dev_data, dev_label, adj_matrix)\n"
   ]
  },
  {
   "cell_type": "code",
   "execution_count": 10,
   "id": "48ac24f2",
   "metadata": {},
   "outputs": [],
   "source": [
    "from torch.utils.data import DataLoader\n",
    "import torch\n",
    "\n",
    "batch_size = 64\n",
    "\n",
    "train_dataset = dp.Data(data=train)\n",
    "val_dataset = dp.Data(data=dev)\n",
    "test_dataset = dp.Data(data=test)\n",
    "\n",
    "train_dataloader = DataLoader(train_dataset, batch_size=batch_size, shuffle=True, drop_last=False)\n",
    "val_dataloader = DataLoader(val_dataset, batch_size=batch_size, shuffle=False, drop_last=False)\n",
    "test_dataloader = DataLoader(test_dataset, batch_size=batch_size, shuffle=False, drop_last=False)"
   ]
  },
  {
   "cell_type": "markdown",
   "id": "fe7b1674",
   "metadata": {},
   "source": [
    "# Train IGNC"
   ]
  },
  {
   "cell_type": "code",
   "execution_count": 11,
   "id": "4e60ec10",
   "metadata": {},
   "outputs": [],
   "source": [
    "from sklearn.metrics import roc_auc_score, roc_curve, precision_score, recall_score, f1_score"
   ]
  },
  {
   "cell_type": "code",
   "execution_count": 16,
   "id": "fb19766d",
   "metadata": {
    "scrolled": true
   },
   "outputs": [
    {
     "name": "stderr",
     "output_type": "stream",
     "text": [
      "100%|██████████████████████████████████████████████████████████████████████████████| 7952/7952 [36:46<00:00,  3.60it/s]\n",
      "100%|████████████████████████████████████████████████████████████████████████████████| 241/241 [00:36<00:00,  6.60it/s]\n",
      "  0%|                                                                                         | 0/7952 [00:00<?, ?it/s]"
     ]
    },
    {
     "name": "stdout",
     "output_type": "stream",
     "text": [
      "Acc at dev is : 0.647\n",
      "ROC is : 0.664,  prec 0.5516309194947197,  recall 0.6637978118798272, f-score 0.5046017411722138\n",
      "Acc at epoch : 1 is : 0.6634604334831238, loss : 4892.203661590815\n"
     ]
    },
    {
     "name": "stderr",
     "output_type": "stream",
     "text": [
      "100%|██████████████████████████████████████████████████████████████████████████████| 7952/7952 [41:01<00:00,  3.23it/s]\n",
      "100%|████████████████████████████████████████████████████████████████████████████████| 241/241 [00:40<00:00,  6.00it/s]\n",
      "  0%|                                                                                         | 0/7952 [00:00<?, ?it/s]"
     ]
    },
    {
     "name": "stdout",
     "output_type": "stream",
     "text": [
      "Acc at dev is : 0.757\n",
      "ROC is : 0.671,  prec 0.5671520739305873,  recall 0.6709102816202221, f-score 0.56440455936389\n",
      "Acc at epoch : 2 is : 0.673265814781189, loss : 4814.471630066633\n"
     ]
    },
    {
     "name": "stderr",
     "output_type": "stream",
     "text": [
      "100%|██████████████████████████████████████████████████████████████████████████████| 7952/7952 [39:53<00:00,  3.32it/s]\n",
      "100%|████████████████████████████████████████████████████████████████████████████████| 241/241 [00:35<00:00,  6.80it/s]\n",
      "  0%|                                                                                         | 0/7952 [00:00<?, ?it/s]"
     ]
    },
    {
     "name": "stdout",
     "output_type": "stream",
     "text": [
      "Acc at dev is : 0.774\n",
      "ROC is : 0.661296161872273,  prec 0.567816310258001,  recall 0.6612961618722729, f-score 0.5703227332590467\n",
      "Acc at epoch : 3 is : 0.6746609210968018, loss : 4801.7116131186485\n"
     ]
    },
    {
     "name": "stderr",
     "output_type": "stream",
     "text": [
      "100%|██████████████████████████████████████████████████████████████████████████████| 7952/7952 [31:54<00:00,  4.15it/s]\n",
      "100%|████████████████████████████████████████████████████████████████████████████████| 241/241 [00:21<00:00, 11.22it/s]\n",
      "  0%|                                                                                         | 0/7952 [00:00<?, ?it/s]"
     ]
    },
    {
     "name": "stdout",
     "output_type": "stream",
     "text": [
      "Acc at dev is : 0.703\n",
      "ROC is : 0.6701863798550267,  prec 0.5584340909117503,  recall 0.6701863798550265, f-score 0.535392547389705\n",
      "Acc at epoch : 4 is : 0.6756454110145569, loss : 4793.509675592184\n"
     ]
    },
    {
     "name": "stderr",
     "output_type": "stream",
     "text": [
      "100%|██████████████████████████████████████████████████████████████████████████████| 7952/7952 [30:58<00:00,  4.28it/s]\n",
      "100%|████████████████████████████████████████████████████████████████████████████████| 241/241 [00:22<00:00, 10.85it/s]\n",
      "  0%|                                                                                         | 0/7952 [00:00<?, ?it/s]"
     ]
    },
    {
     "name": "stdout",
     "output_type": "stream",
     "text": [
      "Acc at dev is : 0.735\n",
      "ROC is : 0.6691950689481643,  prec 0.5625366666264289,  recall 0.6691950689481643, f-score 0.5518471983851759\n",
      "Acc at epoch : 5 is : 0.6762997508049011, loss : 4785.260957479477\n"
     ]
    },
    {
     "name": "stderr",
     "output_type": "stream",
     "text": [
      "100%|██████████████████████████████████████████████████████████████████████████████| 7952/7952 [34:23<00:00,  3.85it/s]\n",
      "100%|████████████████████████████████████████████████████████████████████████████████| 241/241 [00:38<00:00,  6.26it/s]\n",
      "  0%|                                                                                         | 0/7952 [00:00<?, ?it/s]"
     ]
    },
    {
     "name": "stdout",
     "output_type": "stream",
     "text": [
      "Acc at dev is : 0.729\n",
      "ROC is : 0.6637795794383499,  prec 0.5598702558506123,  recall 0.6637795794383499, f-score 0.5468525372258902\n",
      "Acc at epoch : 6 is : 0.6769521236419678, loss : 4777.27802285552\n"
     ]
    },
    {
     "name": "stderr",
     "output_type": "stream",
     "text": [
      "100%|██████████████████████████████████████████████████████████████████████████████| 7952/7952 [40:46<00:00,  3.25it/s]\n",
      "100%|████████████████████████████████████████████████████████████████████████████████| 241/241 [00:38<00:00,  6.18it/s]\n",
      "  0%|                                                                                         | 0/7952 [00:00<?, ?it/s]"
     ]
    },
    {
     "name": "stdout",
     "output_type": "stream",
     "text": [
      "Acc at dev is : 0.797\n",
      "ROC is : 0.6532736604267414,  prec 0.5711680958791446,  recall 0.6532736604267414, f-score 0.5795527670169168\n",
      "Acc at epoch : 7 is : 0.678188145160675, loss : 4767.106577724218\n"
     ]
    },
    {
     "name": "stderr",
     "output_type": "stream",
     "text": [
      "  4%|███▏                                                                           | 327/7952 [01:42<39:39,  3.20it/s]\n"
     ]
    },
    {
     "ename": "KeyboardInterrupt",
     "evalue": "",
     "output_type": "error",
     "traceback": [
      "\u001b[1;31m---------------------------------------------------------------------------\u001b[0m",
      "\u001b[1;31mKeyboardInterrupt\u001b[0m                         Traceback (most recent call last)",
      "\u001b[1;32m<ipython-input-16-96da6480d5fb>\u001b[0m in \u001b[0;36m<module>\u001b[1;34m\u001b[0m\n\u001b[0;32m     18\u001b[0m '''\n\u001b[0;32m     19\u001b[0m \u001b[1;33m\u001b[0m\u001b[0m\n\u001b[1;32m---> 20\u001b[1;33m gnn_model = train_model(adj_matrix=adj_matrix, \n\u001b[0m\u001b[0;32m     21\u001b[0m             \u001b[0mindex_to_name\u001b[0m\u001b[1;33m=\u001b[0m\u001b[0mindex_to_name\u001b[0m\u001b[1;33m,\u001b[0m\u001b[1;33m\u001b[0m\u001b[1;33m\u001b[0m\u001b[0m\n\u001b[0;32m     22\u001b[0m             \u001b[0mtrain_dataloader\u001b[0m\u001b[1;33m=\u001b[0m\u001b[0mtrain_dataloader\u001b[0m\u001b[1;33m,\u001b[0m\u001b[1;33m\u001b[0m\u001b[1;33m\u001b[0m\u001b[0m\n",
      "\u001b[1;32m~\\my-work\\GNN-2\\ignnet_v2.py\u001b[0m in \u001b[0;36mtrain_model\u001b[1;34m(adj_matrix, index_to_name, train_dataloader, val_dataloader, data_name, num_classes, dataframe, categorical, numerical, gnn_model, optimizer_train, current_epoch, num_epochs, learning_rate, normalize_adj)\u001b[0m\n\u001b[0;32m    431\u001b[0m                 \u001b[0mtrain_count\u001b[0m \u001b[1;33m+=\u001b[0m \u001b[0mtorch\u001b[0m\u001b[1;33m.\u001b[0m\u001b[0msum\u001b[0m\u001b[1;33m(\u001b[0m\u001b[0mpreds\u001b[0m \u001b[1;33m==\u001b[0m \u001b[0mlabels\u001b[0m\u001b[1;33m.\u001b[0m\u001b[0mdata\u001b[0m\u001b[1;33m)\u001b[0m\u001b[1;33m\u001b[0m\u001b[1;33m\u001b[0m\u001b[0m\n\u001b[0;32m    432\u001b[0m \u001b[1;33m\u001b[0m\u001b[0m\n\u001b[1;32m--> 433\u001b[1;33m             \u001b[0mtrain_loss\u001b[0m \u001b[1;33m+=\u001b[0m \u001b[0mloss\u001b[0m\u001b[1;33m.\u001b[0m\u001b[0mitem\u001b[0m\u001b[1;33m(\u001b[0m\u001b[1;33m)\u001b[0m  \u001b[1;31m# * output.shape[0]\u001b[0m\u001b[1;33m\u001b[0m\u001b[1;33m\u001b[0m\u001b[0m\n\u001b[0m\u001b[0;32m    434\u001b[0m \u001b[1;33m\u001b[0m\u001b[0m\n\u001b[0;32m    435\u001b[0m             \u001b[0mloss\u001b[0m\u001b[1;33m.\u001b[0m\u001b[0mbackward\u001b[0m\u001b[1;33m(\u001b[0m\u001b[1;33m)\u001b[0m\u001b[1;33m\u001b[0m\u001b[1;33m\u001b[0m\u001b[0m\n",
      "\u001b[1;31mKeyboardInterrupt\u001b[0m: "
     ]
    }
   ],
   "source": [
    "import torch\n",
    "from ignc import train_model\n",
    "\n",
    "\n",
    "gnn_model = train_model(adj_matrix=adj_matrix, \n",
    "            index_to_name=index_to_name,\n",
    "            train_dataloader=train_dataloader,\n",
    "            val_dataloader=val_dataloader,\n",
    "            data_name=data_name,\n",
    "            num_classes=1,\n",
    "            dataframe=encoded_data, \n",
    "            categorical=categorical, \n",
    "            numerical=numerical,\n",
    "            gnn_model=None, \n",
    "            optimizer_train=None, \n",
    "            current_epoch=1,\n",
    "            num_epochs=100,\n",
    "            learning_rate=1e-03,\n",
    "            normalize_adj=False)\n"
   ]
  },
  {
   "cell_type": "markdown",
   "id": "f5c0b171",
   "metadata": {},
   "source": [
    "## Evaluate the trained model on the test set"
   ]
  },
  {
   "cell_type": "code",
   "execution_count": 13,
   "id": "a9323f2a",
   "metadata": {},
   "outputs": [
    {
     "name": "stderr",
     "output_type": "stream",
     "text": [
      "\r",
      "  0%|                                                                                          | 0/241 [00:00<?, ?it/s]"
     ]
    },
    {
     "name": "stdout",
     "output_type": "stream",
     "text": [
      "*** Testing : ****\n"
     ]
    },
    {
     "name": "stderr",
     "output_type": "stream",
     "text": [
      "100%|████████████████████████████████████████████████████████████████████████████████| 241/241 [00:18<00:00, 12.82it/s]"
     ]
    },
    {
     "name": "stdout",
     "output_type": "stream",
     "text": [
      "AUC is : 0.74442234800538,  prec 0.5682265835685207,  recall 0.6716013523889637, f-score 0.565457208200165\n"
     ]
    },
    {
     "name": "stderr",
     "output_type": "stream",
     "text": [
      "\n"
     ]
    }
   ],
   "source": [
    "import torch.nn as nn\n",
    "from ignc import IGNC\n",
    "from tqdm import tqdm\n",
    "\n",
    "\n",
    "\n",
    "device = torch.device('cuda' if torch.cuda.is_available() else 'cpu')\n",
    "\n",
    "input_dim = 1 \n",
    "adj_matrix = torch.FloatTensor(adj_matrix)\n",
    "\n",
    "gnn_model = IGNC(adj_matrix[0].shape[0], adj_matrix.to(device), 1, index_to_name, dataframe=encoded_data, \n",
    "            categorical=categorical, \n",
    "            numerical=numerical,).to(device)\n",
    "\n",
    "torch.cuda.empty_cache()\n",
    "\n",
    "gnn_model.load_state_dict(torch.load(f'{data_name}/{data_name}.model'))\n",
    "\n",
    "print('*** Testing : ****')\n",
    "gnn_model.eval()\n",
    "\n",
    "correct = 0\n",
    "count = 0\n",
    "count_2 = 0\n",
    "\n",
    "list_prediction = []\n",
    "list_pob_pred = []\n",
    "y_test = []\n",
    "\n",
    "for i, data in tqdm(list(enumerate(test_dataloader))):\n",
    "    inputs, labels = data\n",
    "\n",
    "    inputs = inputs.to(device)\n",
    "    labels = labels.to(device)\n",
    "\n",
    "    outputs = gnn_model(inputs)\n",
    "    list_pob_pred.extend(outputs.tolist())\n",
    "\n",
    "    preds = (outputs.reshape(-1) > 0.5) * 1\n",
    "\n",
    "    list_prediction.extend(preds.tolist())\n",
    "\n",
    "    count+= torch.sum(preds == labels.data)\n",
    "\n",
    "    for i in range(len(preds)):\n",
    "        if preds[i] == labels[i] == 1:\n",
    "            count_2 += 1\n",
    "\n",
    "    y_test.extend(labels.tolist())\n",
    "\n",
    "    torch.cuda.empty_cache()\n",
    "\n",
    "\n",
    "roc = roc_auc_score(y_test, list_pob_pred)\n",
    "prec = precision_score(y_test, list_prediction, average='macro')\n",
    "recall = recall_score(y_test, list_prediction, average='macro')\n",
    "f_score = f1_score(y_test, list_prediction, average='macro')\n",
    "\n",
    "print('AUC is : {},  prec {},  recall {}, f-score {}' .format(roc, prec, recall, f_score))"
   ]
  },
  {
   "cell_type": "markdown",
   "id": "27113d35",
   "metadata": {},
   "source": [
    "# Explain one example"
   ]
  },
  {
   "cell_type": "code",
   "execution_count": 15,
   "id": "3d76ff08",
   "metadata": {},
   "outputs": [
    {
     "data": {
      "image/png": "[encoded data removed]",
      "text/plain": [
       "<Figure size 576x576 with 1 Axes>"
      ]
     },
     "metadata": {},
     "output_type": "display_data"
    },
    {
     "data": {
      "text/plain": [
       "tensor([[0.2668]], device='cuda:0', grad_fn=<SigmoidBackward0>)"
      ]
     },
     "execution_count": 15,
     "metadata": {},
     "output_type": "execute_result"
    }
   ],
   "source": [
    "#num of features to use\n",
    "top_n = 10\n",
    "\n",
    "gnn_model.plot_bars(test[10][0].reshape(1, adj_matrix.shape[0], 1).to(device), test_data.iloc[0], top_n)\n",
    "gnn_model.predict(test[10][0].reshape(1, adj_matrix.shape[0], 1).to(device))"
   ]
  },
  {
   "cell_type": "markdown",
   "id": "1ed58d30",
   "metadata": {},
   "source": [
    "# Interpretability Evaluation"
   ]
  },
  {
   "cell_type": "code",
   "execution_count": 16,
   "id": "a546f968",
   "metadata": {},
   "outputs": [],
   "source": [
    "importances = gnn_model.weights.cpu().detach().reshape(-1).numpy()\n",
    "\n",
    "feature_global_importance = {}\n",
    "for i, v in enumerate(importances):\n",
    "    feature_global_importance[index_to_name[i]] = v"
   ]
  },
  {
   "cell_type": "code",
   "execution_count": 17,
   "id": "152f47a7",
   "metadata": {},
   "outputs": [],
   "source": [
    "'''function to obtain feature scores from IGNNet model'''\n",
    "\n",
    "def get_local_values(example, feature_global_importance, adj_matrix, index_to_name):\n",
    "    array_to_use = np.array(example)    \n",
    "    array = torch.FloatTensor(array_to_use).reshape(1, adj_matrix.shape[0], 1)\n",
    "    local_importance = gnn_model.get_local_importance(array.to(device))[-1]\n",
    "\n",
    "    names = []\n",
    "    values = []\n",
    "    for i, v in enumerate(local_importance):\n",
    "        name = index_to_name[i]\n",
    "        names.append(name)\n",
    "        values.append(feature_global_importance[name]*v)\n",
    "    return names, values"
   ]
  },
  {
   "cell_type": "code",
   "execution_count": 18,
   "id": "fe711de1",
   "metadata": {},
   "outputs": [],
   "source": [
    "from sklearn.preprocessing import StandardScaler\n",
    "from data_preprocess import BlackBoxWrapper\n",
    "\n",
    "\n",
    "num_features = adj_matrix.shape[0]\n",
    "\n",
    "\n",
    "bb = BlackBoxWrapper(gnn_model, num_features, device)\n",
    "\n",
    "def black_box(x, S):\n",
    "    pred = bb(x, S)\n",
    "    return pred.cpu().data.numpy()"
   ]
  },
  {
   "cell_type": "code",
   "execution_count": 19,
   "id": "2b372b60",
   "metadata": {},
   "outputs": [],
   "source": [
    "'''\n",
    "Evaluate a black-box model.\n",
    "  x: input examples.\n",
    "  S: coalitions.\n",
    "'''\n",
    "\n",
    "x = test_dataset[0][0]\n",
    "x = x.reshape((1,x.shape[0])).numpy()\n",
    "\n",
    "'''compute the feature scores on a vector of all features masked'''\n",
    "S = np.zeros_like(x)\n",
    "_, null =  get_local_values(S, feature_global_importance, adj_matrix, index_to_name)"
   ]
  },
  {
   "cell_type": "markdown",
   "id": "9dc8c4b6",
   "metadata": {},
   "source": [
    "## Explain 500 examples and compare KernelSHAP to IGNNet after each iteration of data sampling"
   ]
  },
  {
   "cell_type": "code",
   "execution_count": 20,
   "id": "bbfb4e5a",
   "metadata": {
    "scrolled": true
   },
   "outputs": [
    {
     "name": "stdout",
     "output_type": "stream",
     "text": [
      "Loading saved explanations\n"
     ]
    },
    {
     "name": "stderr",
     "output_type": "stream",
     "text": [
      "100%|████████████████████████████████████████████████████████████████████████████████| 500/500 [00:25<00:00, 19.98it/s]\n"
     ]
    }
   ],
   "source": [
    "from tqdm import tqdm\n",
    "import shapreg\n",
    "import pickle\n",
    "import os.path\n",
    "from numpy.linalg import norm\n",
    "from scipy.stats import spearmanr\n",
    "import copy\n",
    "\n",
    "if os.path.isfile(f'{data_name}/{data_name}_exp.pickle'):\n",
    "    print('Loading saved explanations')\n",
    "\n",
    "    with open(f'{data_name}/{data_name}_exp.pickle', 'rb') as file:\n",
    "        all_instance_results_loaded = pickle.load(file)\n",
    "        \n",
    "    all_l2_distances = []\n",
    "    all_cos_sim = []\n",
    "    all_spearman_c = []\n",
    "\n",
    "    for x, all_results in tqdm(all_instance_results_loaded):\n",
    "\n",
    "        _, true_values = get_local_values(x, feature_global_importance, adj_matrix, index_to_name)\n",
    "        \n",
    "        instance_l2_dis = []\n",
    "        instance_cos_sim = []\n",
    "        spearman_c = []\n",
    "        \n",
    "        '''the Shapley values for an input x sum to the difference p(y=1 | x) - p(y=1)'''\n",
    "        true_values = np.array(true_values) - null\n",
    "\n",
    "        for i in list(all_results['iters']):\n",
    "\n",
    "            knl_shp = all_results['values'][list(all_results['iters']).index(i)].reshape(-1)\n",
    "\n",
    "            instance_l2_dis.append(norm(true_values - knl_shp))\n",
    "            instance_cos_sim.append(np.dot(true_values, knl_shp)/(norm(true_values)*norm(knl_shp)))\n",
    "            coef, p = spearmanr(true_values, knl_shp)\n",
    "            spearman_c.append(coef)\n",
    "            \n",
    "        all_l2_distances.append(instance_l2_dis)\n",
    "        all_cos_sim.append(instance_cos_sim)\n",
    "        all_spearman_c.append(spearman_c)\n",
    "\n",
    "else:\n",
    "    \n",
    "    all_l2_distances = []\n",
    "    all_cos_sim = []\n",
    "    all_instance_results = []\n",
    "    all_spearman_c = []\n",
    "\n",
    "    count = 1\n",
    "    for x_, _ in tqdm(test_dataset):\n",
    "        _, true_values = get_local_values(x_, feature_global_importance, adj_matrix, index_to_name)\n",
    "\n",
    "        x = x_.reshape((1,x_.shape[0])).numpy()\n",
    "\n",
    "        # Run KernelSHAP to convergence\n",
    "        game_ = shapreg.games.PredictionGame(black_box, x)\n",
    "        try:\n",
    "            '''more examples are available here'''\n",
    "            shap_values, all_results = shapreg.shapley.ShapleyRegression(\n",
    "                game_, batch_size=32, n_samples=2000, paired_sampling=True, detect_convergence=False,\n",
    "                bar=False, return_all=True)\n",
    "        except:\n",
    "            print('Singularity exception!')\n",
    "            continue\n",
    "\n",
    "        instance_l2_dis = []\n",
    "        instance_cos_sim = []\n",
    "        spearman_c = []\n",
    "\n",
    "        '''the Shapley values for an input x sum to the difference p(y=1 | x) - p(y=1)'''\n",
    "        true_values = np.array(true_values) - null\n",
    "\n",
    "        for i in list(all_results['iters']):\n",
    "\n",
    "            knl_shp = all_results['values'][list(all_results['iters']).index(i)].reshape(-1)\n",
    "\n",
    "            instance_l2_dis.append(norm(true_values - knl_shp))\n",
    "            instance_cos_sim.append(np.dot(true_values, knl_shp)/(norm(true_values)*norm(knl_shp)))\n",
    "            coef, p = spearmanr(true_values, knl_shp)\n",
    "            spearman_c.append(coef)\n",
    "            \n",
    "        all_l2_distances.append(instance_l2_dis)\n",
    "        all_cos_sim.append(instance_cos_sim)\n",
    "        all_spearman_c.append(spearman_c)\n",
    "\n",
    "        all_instance_results.append((copy.deepcopy(x_), copy.deepcopy(all_results)))\n",
    "        \n",
    "        count += 1\n",
    "        if count > 500:\n",
    "            break\n",
    "    print('saving explanations')\n",
    "\n",
    "    with open(f'{data_name}/{data_name}_exp.pickle', 'wb') as file:\n",
    "        pickle.dump(all_instance_results, file)\n"
   ]
  },
  {
   "cell_type": "code",
   "execution_count": 21,
   "id": "44a92139",
   "metadata": {},
   "outputs": [
    {
     "data": {
      "image/png": "[encoded data removed]",
      "text/plain": [
       "<Figure size 576x432 with 1 Axes>"
      ]
     },
     "metadata": {},
     "output_type": "display_data"
    }
   ],
   "source": [
    "\n",
    "\n",
    "'''Plot the computed similarity scores'''\n",
    "\n",
    "mean_cos_sim = np.mean(all_cos_sim, axis=0)\n",
    "mean_spearman_c = np.mean(all_spearman_c, axis=0)\n",
    "\n",
    "import matplotlib.pyplot as plt  \n",
    "# Plot the line graph\n",
    "import seaborn as sb\n",
    "sb.set(rc={'figure.figsize':(8,6)})\n",
    "sb.set_theme(style='whitegrid')\n",
    "\n",
    "plt.plot(all_results['iters'], mean_cos_sim, \"r-\", linewidth=10, alpha=0.2)\n",
    "plt.plot(all_results['iters'], mean_spearman_c, \"b-\", linewidth=10, alpha=0.2)\n",
    "\n",
    "plt.plot(all_results['iters'], mean_cos_sim, \"r-\", label='Cosine Similarity', linewidth=2)\n",
    "plt.plot(all_results['iters'], mean_spearman_c, \"b-\", label='Spearman Correlation', linewidth=2)\n",
    "\n",
    "# Add labels and title\n",
    "plt.xlabel('# Evals', fontsize=18)\n",
    "#plt.ylabel('Mean Value', fontsize=18)\n",
    "plt.title(f'HCDR Main', fontsize=20, fontweight='bold')\n",
    "#plt.legend(fontsize=16)\n",
    "\n",
    "plt.xticks(fontsize=16)\n",
    "plt.yticks(fontsize=16)\n",
    "\n",
    "\n",
    "ax = plt.gca()\n",
    "\n",
    "ax.spines['bottom'].set_color('black')\n",
    "ax.spines['left'].set_color('black')\n",
    "\n",
    "# Display the graph\n",
    "plt.show()"
   ]
  },
  {
   "cell_type": "code",
   "execution_count": null,
   "id": "566247eb",
   "metadata": {},
   "outputs": [],
   "source": []
  }
 ],
 "metadata": {
  "kernelspec": {
   "display_name": "Python 3",
   "language": "python",
   "name": "python3"
  },
  "language_info": {
   "codemirror_mode": {
    "name": "ipython",
    "version": 3
   },
   "file_extension": ".py",
   "mimetype": "text/x-python",
   "name": "python",
   "nbconvert_exporter": "python",
   "pygments_lexer": "ipython3",
   "version": "3.8.8"
  }
 },
 "nbformat": 4,
 "nbformat_minor": 5
}
